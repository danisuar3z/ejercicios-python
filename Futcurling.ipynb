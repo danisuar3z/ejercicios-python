{
 "cells": [
  {
   "cell_type": "code",
   "execution_count": 1,
   "metadata": {},
   "outputs": [],
   "source": [
    "import pandas as pd"
   ]
  },
  {
   "cell_type": "code",
   "execution_count": 86,
   "metadata": {},
   "outputs": [],
   "source": [
    "import numpy as np"
   ]
  },
  {
   "cell_type": "code",
   "execution_count": 188,
   "metadata": {},
   "outputs": [],
   "source": [
    "# pd.options.mode.chained_assignment = None  # default='warn'"
   ]
  },
  {
   "cell_type": "code",
   "execution_count": 2,
   "metadata": {},
   "outputs": [],
   "source": [
    "jugadores = ['LucasC', 'LucasE', 'Colo', 'Elias', 'Alan', 'Kevin', 'Diego', 'Dani']"
   ]
  },
  {
   "cell_type": "code",
   "execution_count": 4,
   "metadata": {},
   "outputs": [],
   "source": [
    "df = pd.DataFrame(columns=jugadores, index=jugadores)"
   ]
  },
  {
   "cell_type": "code",
   "execution_count": 4,
   "metadata": {
    "scrolled": false
   },
   "outputs": [],
   "source": [
    "df = pd.read_csv('Data/triangular.csv')"
   ]
  },
  {
   "cell_type": "code",
   "execution_count": 70,
   "metadata": {
    "scrolled": false
   },
   "outputs": [
    {
     "data": {
      "text/html": [
       "<div>\n",
       "<style scoped>\n",
       "    .dataframe tbody tr th:only-of-type {\n",
       "        vertical-align: middle;\n",
       "    }\n",
       "\n",
       "    .dataframe tbody tr th {\n",
       "        vertical-align: top;\n",
       "    }\n",
       "\n",
       "    .dataframe thead th {\n",
       "        text-align: right;\n",
       "    }\n",
       "</style>\n",
       "<table border=\"1\" class=\"dataframe\">\n",
       "  <thead>\n",
       "    <tr style=\"text-align: right;\">\n",
       "      <th></th>\n",
       "      <th>LucasC</th>\n",
       "      <th>LucasE</th>\n",
       "      <th>Colo</th>\n",
       "      <th>Elias</th>\n",
       "      <th>Alan</th>\n",
       "      <th>Kevin</th>\n",
       "      <th>Diego</th>\n",
       "      <th>Dani</th>\n",
       "      <th>Puntos</th>\n",
       "      <th>Goles_tot</th>\n",
       "    </tr>\n",
       "    <tr>\n",
       "      <th>index</th>\n",
       "      <th></th>\n",
       "      <th></th>\n",
       "      <th></th>\n",
       "      <th></th>\n",
       "      <th></th>\n",
       "      <th></th>\n",
       "      <th></th>\n",
       "      <th></th>\n",
       "      <th></th>\n",
       "      <th></th>\n",
       "    </tr>\n",
       "  </thead>\n",
       "  <tbody>\n",
       "    <tr>\n",
       "      <th>LucasC</th>\n",
       "      <td>----</td>\n",
       "      <td>1-3</td>\n",
       "      <td>3-0</td>\n",
       "      <td>1-3</td>\n",
       "      <td>3-0</td>\n",
       "      <td>3-0</td>\n",
       "      <td>3-2</td>\n",
       "      <td>2-3</td>\n",
       "      <td>12.0</td>\n",
       "      <td>16.0</td>\n",
       "    </tr>\n",
       "    <tr>\n",
       "      <th>LucasE</th>\n",
       "      <td>3-1</td>\n",
       "      <td>----</td>\n",
       "      <td>1-3</td>\n",
       "      <td>3-2</td>\n",
       "      <td>3-1</td>\n",
       "      <td>2-3</td>\n",
       "      <td>3-1</td>\n",
       "      <td>3-2</td>\n",
       "      <td>15.0</td>\n",
       "      <td>18.0</td>\n",
       "    </tr>\n",
       "    <tr>\n",
       "      <th>Colo</th>\n",
       "      <td>0-3</td>\n",
       "      <td>3-1</td>\n",
       "      <td>----</td>\n",
       "      <td>1-3</td>\n",
       "      <td>3-1</td>\n",
       "      <td>3-1</td>\n",
       "      <td>3-1</td>\n",
       "      <td>3-2</td>\n",
       "      <td>15.0</td>\n",
       "      <td>16.0</td>\n",
       "    </tr>\n",
       "    <tr>\n",
       "      <th>Elias</th>\n",
       "      <td>3-1</td>\n",
       "      <td>2-3</td>\n",
       "      <td>3-1</td>\n",
       "      <td>----</td>\n",
       "      <td>3-0</td>\n",
       "      <td>2-3</td>\n",
       "      <td>3-2</td>\n",
       "      <td>3-1</td>\n",
       "      <td>15.0</td>\n",
       "      <td>19.0</td>\n",
       "    </tr>\n",
       "    <tr>\n",
       "      <th>Alan</th>\n",
       "      <td>0-3</td>\n",
       "      <td>1-3</td>\n",
       "      <td>1-3</td>\n",
       "      <td>0-3</td>\n",
       "      <td>----</td>\n",
       "      <td>2-3</td>\n",
       "      <td>3-0</td>\n",
       "      <td>2-3</td>\n",
       "      <td>3.0</td>\n",
       "      <td>9.0</td>\n",
       "    </tr>\n",
       "    <tr>\n",
       "      <th>Kevin</th>\n",
       "      <td>0-3</td>\n",
       "      <td>3-2</td>\n",
       "      <td>1-3</td>\n",
       "      <td>3-2</td>\n",
       "      <td>3-2</td>\n",
       "      <td>----</td>\n",
       "      <td>1-3</td>\n",
       "      <td>2-3</td>\n",
       "      <td>9.0</td>\n",
       "      <td>13.0</td>\n",
       "    </tr>\n",
       "    <tr>\n",
       "      <th>Diego</th>\n",
       "      <td>2-3</td>\n",
       "      <td>1-3</td>\n",
       "      <td>1-3</td>\n",
       "      <td>2-3</td>\n",
       "      <td>0-3</td>\n",
       "      <td>3-1</td>\n",
       "      <td>----</td>\n",
       "      <td>3-0</td>\n",
       "      <td>6.0</td>\n",
       "      <td>12.0</td>\n",
       "    </tr>\n",
       "    <tr>\n",
       "      <th>Dani</th>\n",
       "      <td>3-2</td>\n",
       "      <td>2-3</td>\n",
       "      <td>2-3</td>\n",
       "      <td>1-3</td>\n",
       "      <td>0-3</td>\n",
       "      <td>3-2</td>\n",
       "      <td>0-3</td>\n",
       "      <td>----</td>\n",
       "      <td>6.0</td>\n",
       "      <td>11.0</td>\n",
       "    </tr>\n",
       "  </tbody>\n",
       "</table>\n",
       "</div>"
      ],
      "text/plain": [
       "       LucasC LucasE  Colo Elias  Alan Kevin Diego  Dani  Puntos  Goles_tot\n",
       "index                                                                      \n",
       "LucasC   ----    1-3   3-0   1-3   3-0   3-0   3-2   2-3    12.0       16.0\n",
       "LucasE    3-1   ----   1-3   3-2   3-1   2-3   3-1   3-2    15.0       18.0\n",
       "Colo      0-3    3-1  ----   1-3   3-1   3-1   3-1   3-2    15.0       16.0\n",
       "Elias     3-1    2-3   3-1  ----   3-0   2-3   3-2   3-1    15.0       19.0\n",
       "Alan      0-3    1-3   1-3   0-3  ----   2-3   3-0   2-3     3.0        9.0\n",
       "Kevin     0-3    3-2   1-3   3-2   3-2  ----   1-3   2-3     9.0       13.0\n",
       "Diego     2-3    1-3   1-3   2-3   0-3   3-1  ----   3-0     6.0       12.0\n",
       "Dani      3-2    2-3   2-3   1-3   0-3   3-2   0-3  ----     6.0       11.0"
      ]
     },
     "execution_count": 70,
     "metadata": {},
     "output_type": "execute_result"
    }
   ],
   "source": [
    "df"
   ]
  },
  {
   "cell_type": "code",
   "execution_count": 87,
   "metadata": {},
   "outputs": [],
   "source": [
    "df = df.sort_values(by='Puntos', ascending=False).sort_values(by='Goles_tot', ascending=False)"
   ]
  },
  {
   "cell_type": "code",
   "execution_count": 88,
   "metadata": {},
   "outputs": [
    {
     "data": {
      "text/html": [
       "<div>\n",
       "<style scoped>\n",
       "    .dataframe tbody tr th:only-of-type {\n",
       "        vertical-align: middle;\n",
       "    }\n",
       "\n",
       "    .dataframe tbody tr th {\n",
       "        vertical-align: top;\n",
       "    }\n",
       "\n",
       "    .dataframe thead th {\n",
       "        text-align: right;\n",
       "    }\n",
       "</style>\n",
       "<table border=\"1\" class=\"dataframe\">\n",
       "  <thead>\n",
       "    <tr style=\"text-align: right;\">\n",
       "      <th></th>\n",
       "      <th>LucasC</th>\n",
       "      <th>LucasE</th>\n",
       "      <th>Colo</th>\n",
       "      <th>Elias</th>\n",
       "      <th>Alan</th>\n",
       "      <th>Kevin</th>\n",
       "      <th>Diego</th>\n",
       "      <th>Dani</th>\n",
       "      <th>Puntos</th>\n",
       "      <th>Goles_tot</th>\n",
       "    </tr>\n",
       "    <tr>\n",
       "      <th>index</th>\n",
       "      <th></th>\n",
       "      <th></th>\n",
       "      <th></th>\n",
       "      <th></th>\n",
       "      <th></th>\n",
       "      <th></th>\n",
       "      <th></th>\n",
       "      <th></th>\n",
       "      <th></th>\n",
       "      <th></th>\n",
       "    </tr>\n",
       "  </thead>\n",
       "  <tbody>\n",
       "    <tr>\n",
       "      <th>Elias</th>\n",
       "      <td>3-1</td>\n",
       "      <td>2-3</td>\n",
       "      <td>3-1</td>\n",
       "      <td>----</td>\n",
       "      <td>3-0</td>\n",
       "      <td>2-3</td>\n",
       "      <td>3-2</td>\n",
       "      <td>3-1</td>\n",
       "      <td>15.0</td>\n",
       "      <td>19.0</td>\n",
       "    </tr>\n",
       "    <tr>\n",
       "      <th>LucasE</th>\n",
       "      <td>3-1</td>\n",
       "      <td>----</td>\n",
       "      <td>1-3</td>\n",
       "      <td>3-2</td>\n",
       "      <td>3-1</td>\n",
       "      <td>2-3</td>\n",
       "      <td>3-1</td>\n",
       "      <td>3-2</td>\n",
       "      <td>15.0</td>\n",
       "      <td>18.0</td>\n",
       "    </tr>\n",
       "    <tr>\n",
       "      <th>Colo</th>\n",
       "      <td>0-3</td>\n",
       "      <td>3-1</td>\n",
       "      <td>----</td>\n",
       "      <td>1-3</td>\n",
       "      <td>3-1</td>\n",
       "      <td>3-1</td>\n",
       "      <td>3-1</td>\n",
       "      <td>3-2</td>\n",
       "      <td>15.0</td>\n",
       "      <td>16.0</td>\n",
       "    </tr>\n",
       "    <tr>\n",
       "      <th>LucasC</th>\n",
       "      <td>----</td>\n",
       "      <td>1-3</td>\n",
       "      <td>3-0</td>\n",
       "      <td>1-3</td>\n",
       "      <td>3-0</td>\n",
       "      <td>3-0</td>\n",
       "      <td>3-2</td>\n",
       "      <td>2-3</td>\n",
       "      <td>12.0</td>\n",
       "      <td>16.0</td>\n",
       "    </tr>\n",
       "    <tr>\n",
       "      <th>Kevin</th>\n",
       "      <td>0-3</td>\n",
       "      <td>3-2</td>\n",
       "      <td>1-3</td>\n",
       "      <td>3-2</td>\n",
       "      <td>3-2</td>\n",
       "      <td>----</td>\n",
       "      <td>1-3</td>\n",
       "      <td>2-3</td>\n",
       "      <td>9.0</td>\n",
       "      <td>13.0</td>\n",
       "    </tr>\n",
       "    <tr>\n",
       "      <th>Diego</th>\n",
       "      <td>2-3</td>\n",
       "      <td>1-3</td>\n",
       "      <td>1-3</td>\n",
       "      <td>2-3</td>\n",
       "      <td>0-3</td>\n",
       "      <td>3-1</td>\n",
       "      <td>----</td>\n",
       "      <td>3-0</td>\n",
       "      <td>6.0</td>\n",
       "      <td>12.0</td>\n",
       "    </tr>\n",
       "    <tr>\n",
       "      <th>Dani</th>\n",
       "      <td>3-2</td>\n",
       "      <td>2-3</td>\n",
       "      <td>2-3</td>\n",
       "      <td>1-3</td>\n",
       "      <td>0-3</td>\n",
       "      <td>3-2</td>\n",
       "      <td>0-3</td>\n",
       "      <td>----</td>\n",
       "      <td>6.0</td>\n",
       "      <td>11.0</td>\n",
       "    </tr>\n",
       "    <tr>\n",
       "      <th>Alan</th>\n",
       "      <td>0-3</td>\n",
       "      <td>1-3</td>\n",
       "      <td>1-3</td>\n",
       "      <td>0-3</td>\n",
       "      <td>----</td>\n",
       "      <td>2-3</td>\n",
       "      <td>3-0</td>\n",
       "      <td>2-3</td>\n",
       "      <td>3.0</td>\n",
       "      <td>9.0</td>\n",
       "    </tr>\n",
       "  </tbody>\n",
       "</table>\n",
       "</div>"
      ],
      "text/plain": [
       "       LucasC LucasE  Colo Elias  Alan Kevin Diego  Dani  Puntos  Goles_tot\n",
       "index                                                                      \n",
       "Elias     3-1    2-3   3-1  ----   3-0   2-3   3-2   3-1    15.0       19.0\n",
       "LucasE    3-1   ----   1-3   3-2   3-1   2-3   3-1   3-2    15.0       18.0\n",
       "Colo      0-3    3-1  ----   1-3   3-1   3-1   3-1   3-2    15.0       16.0\n",
       "LucasC   ----    1-3   3-0   1-3   3-0   3-0   3-2   2-3    12.0       16.0\n",
       "Kevin     0-3    3-2   1-3   3-2   3-2  ----   1-3   2-3     9.0       13.0\n",
       "Diego     2-3    1-3   1-3   2-3   0-3   3-1  ----   3-0     6.0       12.0\n",
       "Dani      3-2    2-3   2-3   1-3   0-3   3-2   0-3  ----     6.0       11.0\n",
       "Alan      0-3    1-3   1-3   0-3  ----   2-3   3-0   2-3     3.0        9.0"
      ]
     },
     "execution_count": 88,
     "metadata": {},
     "output_type": "execute_result"
    }
   ],
   "source": [
    "df"
   ]
  },
  {
   "cell_type": "code",
   "execution_count": 92,
   "metadata": {},
   "outputs": [
    {
     "ename": "TypeError",
     "evalue": "all inputs must be Index",
     "output_type": "error",
     "traceback": [
      "\u001b[1;31m---------------------------------------------------------------------------\u001b[0m",
      "\u001b[1;31mTypeError\u001b[0m                                 Traceback (most recent call last)",
      "\u001b[1;32m<ipython-input-92-6be2c0cc1268>\u001b[0m in \u001b[0;36m<module>\u001b[1;34m\u001b[0m\n\u001b[0;32m      1\u001b[0m \u001b[0mnew_order\u001b[0m \u001b[1;33m=\u001b[0m \u001b[0mdf\u001b[0m\u001b[1;33m.\u001b[0m\u001b[0mindex\u001b[0m\u001b[1;33m\u001b[0m\u001b[1;33m\u001b[0m\u001b[0m\n\u001b[1;32m----> 2\u001b[1;33m \u001b[0mnew_order\u001b[0m\u001b[1;33m.\u001b[0m\u001b[0mappend\u001b[0m\u001b[1;33m(\u001b[0m\u001b[1;34m'Puntos'\u001b[0m\u001b[1;33m)\u001b[0m\u001b[1;33m\u001b[0m\u001b[1;33m\u001b[0m\u001b[0m\n\u001b[0m\u001b[0;32m      3\u001b[0m \u001b[0mnew_order\u001b[0m\u001b[1;33m.\u001b[0m\u001b[0mappend\u001b[0m\u001b[1;33m(\u001b[0m\u001b[1;34m'Goles_tot'\u001b[0m\u001b[1;33m)\u001b[0m\u001b[1;33m\u001b[0m\u001b[1;33m\u001b[0m\u001b[0m\n",
      "\u001b[1;32m~\\Anaconda3\\lib\\site-packages\\pandas\\core\\indexes\\base.py\u001b[0m in \u001b[0;36mappend\u001b[1;34m(self, other)\u001b[0m\n\u001b[0;32m   3983\u001b[0m         \u001b[1;32mfor\u001b[0m \u001b[0mobj\u001b[0m \u001b[1;32min\u001b[0m \u001b[0mto_concat\u001b[0m\u001b[1;33m:\u001b[0m\u001b[1;33m\u001b[0m\u001b[1;33m\u001b[0m\u001b[0m\n\u001b[0;32m   3984\u001b[0m             \u001b[1;32mif\u001b[0m \u001b[1;32mnot\u001b[0m \u001b[0misinstance\u001b[0m\u001b[1;33m(\u001b[0m\u001b[0mobj\u001b[0m\u001b[1;33m,\u001b[0m \u001b[0mIndex\u001b[0m\u001b[1;33m)\u001b[0m\u001b[1;33m:\u001b[0m\u001b[1;33m\u001b[0m\u001b[1;33m\u001b[0m\u001b[0m\n\u001b[1;32m-> 3985\u001b[1;33m                 \u001b[1;32mraise\u001b[0m \u001b[0mTypeError\u001b[0m\u001b[1;33m(\u001b[0m\u001b[1;34m\"all inputs must be Index\"\u001b[0m\u001b[1;33m)\u001b[0m\u001b[1;33m\u001b[0m\u001b[1;33m\u001b[0m\u001b[0m\n\u001b[0m\u001b[0;32m   3986\u001b[0m \u001b[1;33m\u001b[0m\u001b[0m\n\u001b[0;32m   3987\u001b[0m         \u001b[0mnames\u001b[0m \u001b[1;33m=\u001b[0m \u001b[1;33m{\u001b[0m\u001b[0mobj\u001b[0m\u001b[1;33m.\u001b[0m\u001b[0mname\u001b[0m \u001b[1;32mfor\u001b[0m \u001b[0mobj\u001b[0m \u001b[1;32min\u001b[0m \u001b[0mto_concat\u001b[0m\u001b[1;33m}\u001b[0m\u001b[1;33m\u001b[0m\u001b[1;33m\u001b[0m\u001b[0m\n",
      "\u001b[1;31mTypeError\u001b[0m: all inputs must be Index"
     ]
    }
   ],
   "source": [
    "new_order = df.index\n",
    "new_order.append('Puntos')\n",
    "new_order.append('Goles_tot')"
   ]
  },
  {
   "cell_type": "code",
   "execution_count": null,
   "metadata": {},
   "outputs": [],
   "source": []
  },
  {
   "cell_type": "code",
   "execution_count": 64,
   "metadata": {},
   "outputs": [],
   "source": [
    "for jugador in jugadores:\n",
    "    puntos = 0\n",
    "    for num in df.loc[jugador].str[0]:\n",
    "        if type(num) == str and num != '-':\n",
    "            if num == '3':\n",
    "                puntos += 3\n",
    "    df.loc[jugador, 'Puntos'] = puntos"
   ]
  },
  {
   "cell_type": "code",
   "execution_count": 69,
   "metadata": {},
   "outputs": [
    {
     "name": "stderr",
     "output_type": "stream",
     "text": [
      "C:\\Users\\Daniel\\Anaconda3\\lib\\site-packages\\pandas\\core\\indexing.py:966: SettingWithCopyWarning: \n",
      "A value is trying to be set on a copy of a slice from a DataFrame.\n",
      "Try using .loc[row_indexer,col_indexer] = value instead\n",
      "\n",
      "See the caveats in the documentation: https://pandas.pydata.org/pandas-docs/stable/user_guide/indexing.html#returning-a-view-versus-a-copy\n",
      "  self.obj[item] = s\n"
     ]
    }
   ],
   "source": [
    "for jugador in jugadores:\n",
    "    goles = 0\n",
    "    for num in df.loc[jugador].str[0]:\n",
    "        if type(num) == str and num != '-':\n",
    "            goles += int(num)\n",
    "    df.loc[jugador, 'Goles_tot'] = goles"
   ]
  },
  {
   "cell_type": "code",
   "execution_count": 52,
   "metadata": {},
   "outputs": [],
   "source": [
    "df.loc['Kevin', 'Dani'] = '2-3'"
   ]
  },
  {
   "cell_type": "code",
   "execution_count": 56,
   "metadata": {},
   "outputs": [
    {
     "data": {
      "text/plain": [
       "index\n",
       "LucasC     3-0\n",
       "LucasE     2-3\n",
       "Colo       3-1\n",
       "Elias      2-3\n",
       "Alan       2-3\n",
       "Kevin     ----\n",
       "Diego      3-1\n",
       "Dani       3-2\n",
       "Name: Kevin, dtype: object"
      ]
     },
     "execution_count": 56,
     "metadata": {},
     "output_type": "execute_result"
    }
   ],
   "source": [
    "df['Kevin']"
   ]
  },
  {
   "cell_type": "code",
   "execution_count": 60,
   "metadata": {},
   "outputs": [],
   "source": [
    "for jugador in jugadores:\n",
    "    goles_jugador = 0\n",
    "    for num in df[jugador].str[2]:\n",
    "        if type(num) == str and num != '-':\n",
    "            goles_jugador += int(num)\n",
    "    df.loc['Goles_tot', jugador] = goles_jugador"
   ]
  },
  {
   "cell_type": "code",
   "execution_count": 54,
   "metadata": {},
   "outputs": [],
   "source": [
    "puntajes = []\n",
    "for jugador in jugadores:\n",
    "    puntos = 0\n",
    "    for num in df[jugador].str[2]:\n",
    "        if type(num) == str and num != '-':\n",
    "            if num == '3':\n",
    "                puntos += 3\n",
    "    puntajes.append(puntos)\n",
    "df['Puntos'] = puntos"
   ]
  },
  {
   "cell_type": "code",
   "execution_count": 167,
   "metadata": {},
   "outputs": [
    {
     "data": {
      "text/plain": [
       "LucasC      3\n",
       "LucasE    NaN\n",
       "Colo        2\n",
       "Elias       1\n",
       "Alan        3\n",
       "Kevin     NaN\n",
       "Diego       0\n",
       "Dani        -\n",
       "Name: Dani, dtype: object"
      ]
     },
     "execution_count": 167,
     "metadata": {},
     "output_type": "execute_result"
    }
   ],
   "source": [
    "df[jugador].str[2]"
   ]
  },
  {
   "cell_type": "code",
   "execution_count": 189,
   "metadata": {},
   "outputs": [
    {
     "name": "stderr",
     "output_type": "stream",
     "text": [
      "<ipython-input-189-6872d7453b9b>:1: SettingWithCopyWarning: \n",
      "A value is trying to be set on a copy of a slice from a DataFrame\n",
      "\n",
      "See the caveats in the documentation: https://pandas.pydata.org/pandas-docs/stable/user_guide/indexing.html#returning-a-view-versus-a-copy\n",
      "  df.xs('Elias')['Diego'] = '3-2'\n"
     ]
    }
   ],
   "source": [
    "df.xs('Elias')['Diego'] = '3-2'"
   ]
  },
  {
   "cell_type": "code",
   "execution_count": 114,
   "metadata": {},
   "outputs": [],
   "source": [
    "df.xs('LucasC')['LucasC'] = '----'"
   ]
  },
  {
   "cell_type": "code",
   "execution_count": 183,
   "metadata": {},
   "outputs": [],
   "source": [
    "df.xs('LucasE')['Dani'] = '3-2'"
   ]
  },
  {
   "cell_type": "code",
   "execution_count": 143,
   "metadata": {},
   "outputs": [],
   "source": [
    "df.xs('Colo')['Diego'] = '3-1'"
   ]
  },
  {
   "cell_type": "code",
   "execution_count": 184,
   "metadata": {},
   "outputs": [],
   "source": [
    "df.xs('Dani')['LucasE'] = '2-3'"
   ]
  },
  {
   "cell_type": "code",
   "execution_count": 165,
   "metadata": {},
   "outputs": [],
   "source": [
    "df.xs('Diego')['Elias'] = '2-3'"
   ]
  },
  {
   "cell_type": "code",
   "execution_count": 161,
   "metadata": {},
   "outputs": [],
   "source": [
    "df.xs('Alan')['LucasE'] = '1-3'"
   ]
  },
  {
   "cell_type": "code",
   "execution_count": 146,
   "metadata": {},
   "outputs": [],
   "source": [
    "df.xs('Kevin')['Elias'] = '3-2'"
   ]
  }
 ],
 "metadata": {
  "kernelspec": {
   "display_name": "Python 3",
   "language": "python",
   "name": "python3"
  },
  "language_info": {
   "codemirror_mode": {
    "name": "ipython",
    "version": 3
   },
   "file_extension": ".py",
   "mimetype": "text/x-python",
   "name": "python",
   "nbconvert_exporter": "python",
   "pygments_lexer": "ipython3",
   "version": "3.8.3"
  }
 },
 "nbformat": 4,
 "nbformat_minor": 4
}
